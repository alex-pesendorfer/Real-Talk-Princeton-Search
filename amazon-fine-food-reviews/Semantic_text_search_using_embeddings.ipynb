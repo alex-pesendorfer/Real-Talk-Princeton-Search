{
 "cells": [
  {
   "cell_type": "code",
   "execution_count": 19,
   "id": "fa6e08f6",
   "metadata": {},
   "outputs": [],
   "source": [
    "import pandas as pd\n",
    "import numpy as np\n",
    "\n",
    "datafile_path = \"fine_food_reviews_with_embeddings_100.csv\"\n",
    "\n",
    "df = pd.read_csv(datafile_path)\n",
    "df[\"embedding\"] = df.embedding.apply(eval).apply(np.array)"
   ]
  },
  {
   "cell_type": "code",
   "execution_count": 20,
   "id": "10dd4a0d",
   "metadata": {},
   "outputs": [
    {
     "name": "stdout",
     "output_type": "stream",
     "text": [
      "Equidorian OJio Arriba Carillo \"RAW Oranic\" Cacao:  Raw Cacao Powder differs greatly in taste than processed Cacao Powder. Commercial cacao powder is often triple fermented and then roasted. Commercia\n",
      "\n"
     ]
    }
   ],
   "source": [
    "from openai.embeddings_utils import get_embedding, cosine_similarity\n",
    "\n",
    "# search through the reviews for a specific product\n",
    "def search_reviews(df, product_description, n=3, pprint=True):\n",
    "    product_embedding = get_embedding(\n",
    "        product_description,\n",
    "        engine=\"text-embedding-ada-002\"\n",
    "    )\n",
    "    df[\"similarity\"] = df.embedding.apply(lambda x: cosine_similarity(x, product_embedding))\n",
    "\n",
    "    results = (\n",
    "        df.sort_values(\"similarity\", ascending=False)\n",
    "        .head(n)\n",
    "        .combined.str.replace(\"Title: \", \"\")\n",
    "        .str.replace(\"; Content:\", \": \")\n",
    "    )\n",
    "    if pprint:\n",
    "        for r in results:\n",
    "            print(r[:200])\n",
    "            print()\n",
    "    return results\n",
    "\n",
    "\n",
    "results = search_reviews(df, \"cocoa\", n=1)"
   ]
  },
  {
   "cell_type": "code",
   "execution_count": 21,
   "id": "6d88d4fc",
   "metadata": {},
   "outputs": [
    {
     "name": "stdout",
     "output_type": "stream",
     "text": [
      "Equidorian OJio Arriba Carillo \"RAW Oranic\" Cacao:  Raw Cacao Powder differs greatly in taste than processed Cacao Powder. Commercial cacao powder is often triple fermented and then roasted. Commercia\n",
      "\n"
     ]
    }
   ],
   "source": [
    "results = search_reviews(df, \"cocoa\", n=1)"
   ]
  },
  {
   "cell_type": "code",
   "execution_count": 22,
   "id": "97e9319c",
   "metadata": {},
   "outputs": [
    {
     "name": "stdout",
     "output_type": "stream",
     "text": [
      "My cat hates it..:  My cat will NOT eat this food. I don't know why, but it was a waste of money. I was looking for something cheap so I guess you get what you pay for.\n",
      "\n",
      "Horrible .. dont buy it:  The laddoos turned bad in a few days after we received it. No other item inside our fridge turned bad.\n",
      "\n",
      "Disgusting:  This coffee is absolutely horrendous.  I cannot believe it has any favorable reviews and agree with the other reviewer who believes positive reviews were written by employees.  I cannot s\n",
      "\n",
      "Reeks like chemicals:  I so wish I would have read this review before purchasing TWO gallons of this oil for my health issues. It reeks like a chemical rubber smell. This smell is coming from the blac\n",
      "\n"
     ]
    }
   ],
   "source": [
    "results = search_reviews(df, \"i hated this product\", n=4)"
   ]
  },
  {
   "cell_type": "code",
   "execution_count": null,
   "id": "8f021e75",
   "metadata": {},
   "outputs": [],
   "source": []
  }
 ],
 "metadata": {
  "kernelspec": {
   "display_name": "Python 3 (ipykernel)",
   "language": "python",
   "name": "python3"
  },
  "language_info": {
   "codemirror_mode": {
    "name": "ipython",
    "version": 3
   },
   "file_extension": ".py",
   "mimetype": "text/x-python",
   "name": "python",
   "nbconvert_exporter": "python",
   "pygments_lexer": "ipython3",
   "version": "3.9.13"
  }
 },
 "nbformat": 4,
 "nbformat_minor": 5
}
